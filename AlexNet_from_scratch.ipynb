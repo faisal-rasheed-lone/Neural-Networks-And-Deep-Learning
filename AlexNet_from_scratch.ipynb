{
 "cells": [
  {
   "cell_type": "code",
   "execution_count": 51,
   "id": "4613a354",
   "metadata": {},
   "outputs": [],
   "source": [
    "import tensorflow as tf\n",
    "from tensorflow import keras\n",
    "from tensorflow.keras import layers\n",
    "from tensorflow.keras.preprocessing.image import ImageDataGenerator\n",
    "from sklearn.metrics import classification_report, confusion_matrix, f1_score, accuracy_score"
   ]
  },
  {
   "cell_type": "code",
   "execution_count": 52,
   "id": "813b149e",
   "metadata": {},
   "outputs": [],
   "source": [
    "#  Define the data directory and other hyperparameters\n",
    "train_dir = 'final_dataset/train'\n",
    "val_dir = 'final_dataset/validation'\n",
    "test_dir = 'final_dataset/test'\n",
    "batch_size = 64\n",
    "input_shape = (227, 227, 3)\n",
    "num_classes = 101\n",
    "num_epochs = 30\n"
   ]
  },
  {
   "cell_type": "code",
   "execution_count": 53,
   "id": "ac58bffe",
   "metadata": {},
   "outputs": [
    {
     "name": "stdout",
     "output_type": "stream",
     "text": [
      "Found 75750 images belonging to 101 classes.\n",
      "Found 10100 images belonging to 101 classes.\n",
      "Found 15150 images belonging to 101 classes.\n"
     ]
    }
   ],
   "source": [
    "# Data preprocessing and augmentation\n",
    "train_datagen = ImageDataGenerator(\n",
    "    rescale=1./255\n",
    "#     rotation_range=15,\n",
    "#     width_shift_range=0.2,\n",
    "#     height_shift_range=0.2,\n",
    "#     shear_range=0.2,\n",
    "#     zoom_range=0.2,\n",
    "#     horizontal_flip=True,\n",
    "#     fill_mode='nearest'\n",
    ")\n",
    "\n",
    "val_datagen = ImageDataGenerator(rescale=1./255)\n",
    "test_datagen = ImageDataGenerator(rescale=1./255)\n",
    "\n",
    "train_generator = train_datagen.flow_from_directory(\n",
    "    train_dir,\n",
    "    target_size=input_shape[:2],\n",
    "    batch_size=batch_size,\n",
    "    class_mode='categorical'\n",
    ")\n",
    "\n",
    "val_generator = val_datagen.flow_from_directory(\n",
    "    val_dir,\n",
    "    target_size=input_shape[:2],\n",
    "    batch_size=batch_size,\n",
    "    class_mode='categorical'\n",
    ")\n",
    "\n",
    "test_generator = test_datagen.flow_from_directory(\n",
    "    test_dir,\n",
    "    target_size=input_shape[:2],\n",
    "    batch_size=batch_size,\n",
    "    class_mode='categorical',\n",
    "    shuffle=False  # Do not shuffle the test data\n",
    ")\n"
   ]
  },
  {
   "cell_type": "code",
   "execution_count": 54,
   "id": "9d42ab26",
   "metadata": {},
   "outputs": [
    {
     "ename": "AttributeError",
     "evalue": "module 'keras.api._v2.keras.applications' has no attribute 'AlexNet'",
     "output_type": "error",
     "traceback": [
      "\u001b[0;31m---------------------------------------------------------------------------\u001b[0m",
      "\u001b[0;31mAttributeError\u001b[0m                            Traceback (most recent call last)",
      "Input \u001b[0;32mIn [54]\u001b[0m, in \u001b[0;36m<cell line: 2>\u001b[0;34m()\u001b[0m\n\u001b[1;32m      1\u001b[0m \u001b[38;5;66;03m# Load the pre-trained AlexNet model with weights from ImageNet\u001b[39;00m\n\u001b[0;32m----> 2\u001b[0m base_model \u001b[38;5;241m=\u001b[39m \u001b[43mtf\u001b[49m\u001b[38;5;241;43m.\u001b[39;49m\u001b[43mkeras\u001b[49m\u001b[38;5;241;43m.\u001b[39;49m\u001b[43mapplications\u001b[49m\u001b[38;5;241;43m.\u001b[39;49m\u001b[43mAlexNet\u001b[49m(\n\u001b[1;32m      3\u001b[0m     include_top\u001b[38;5;241m=\u001b[39m\u001b[38;5;28;01mFalse\u001b[39;00m, weights\u001b[38;5;241m=\u001b[39m\u001b[38;5;124m'\u001b[39m\u001b[38;5;124mimagenet\u001b[39m\u001b[38;5;124m'\u001b[39m, input_shape\u001b[38;5;241m=\u001b[39minput_shape)\n\u001b[1;32m      5\u001b[0m \u001b[38;5;66;03m# Freeze the pre-trained layers (optional)\u001b[39;00m\n\u001b[1;32m      6\u001b[0m \u001b[38;5;28;01mfor\u001b[39;00m layer \u001b[38;5;129;01min\u001b[39;00m base_model\u001b[38;5;241m.\u001b[39mlayers:\n",
      "\u001b[0;31mAttributeError\u001b[0m: module 'keras.api._v2.keras.applications' has no attribute 'AlexNet'"
     ]
    }
   ],
   "source": [
    "# Load the pre-trained AlexNet model with weights from ImageNet\n",
    "base_model = tf.keras.applications.AlexNet(\n",
    "    include_top=False, weights='imagenet', input_shape=input_shape)\n",
    "\n",
    "# Freeze the pre-trained layers (optional)\n",
    "for layer in base_model.layers:\n",
    "    layer.trainable = False"
   ]
  },
  {
   "cell_type": "code",
   "execution_count": null,
   "id": "a324a39f",
   "metadata": {},
   "outputs": [],
   "source": [
    "# Add custom classification layers on top of the pre-trained model\n",
    "x = layers.Flatten()(base_model.output)\n",
    "x = layers.Dense(4096, activation='relu')(x)\n",
    "x = layers.Dropout(0.5)(x)\n",
    "x = layers.Dense(4096, activation='relu')(x)\n",
    "x = layers.Dropout(0.5)(x)\n",
    "output = layers.Dense(num_classes, activation='softmax')(x)\n",
    "\n",
    "model = Model(inputs=base_model.input, outputs=output)\n"
   ]
  },
  {
   "cell_type": "code",
   "execution_count": 47,
   "id": "16f5a33c",
   "metadata": {},
   "outputs": [],
   "source": [
    "model.compile(optimizer='adam',\n",
    "              loss='categorical_crossentropy',\n",
    "              metrics=['accuracy'])"
   ]
  },
  {
   "cell_type": "code",
   "execution_count": 48,
   "id": "0323b0ab",
   "metadata": {},
   "outputs": [
    {
     "name": "stdout",
     "output_type": "stream",
     "text": [
      "Model: \"sequential_9\"\n",
      "_________________________________________________________________\n",
      " Layer (type)                Output Shape              Param #   \n",
      "=================================================================\n",
      " conv2d_24 (Conv2D)          (None, 55, 55, 96)        34944     \n",
      "                                                                 \n",
      " max_pooling2d_20 (MaxPoolin  (None, 27, 27, 96)       0         \n",
      " g2D)                                                            \n",
      "                                                                 \n",
      " flatten_9 (Flatten)         (None, 69984)             0         \n",
      "                                                                 \n",
      " dense_19 (Dense)            (None, 256)               17916160  \n",
      "                                                                 \n",
      " dense_20 (Dense)            (None, 101)               25957     \n",
      "                                                                 \n",
      "=================================================================\n",
      "Total params: 17,977,061\n",
      "Trainable params: 17,977,061\n",
      "Non-trainable params: 0\n",
      "_________________________________________________________________\n"
     ]
    }
   ],
   "source": [
    "model.summary()"
   ]
  },
  {
   "cell_type": "code",
   "execution_count": 49,
   "id": "1226a2cd",
   "metadata": {},
   "outputs": [],
   "source": [
    "# Define callbacks\n",
    "checkpoint_callback = keras.callbacks.ModelCheckpoint(\n",
    "    'alexnet_model.h5', save_best_only=True, monitor='val_loss', mode='min', verbose=1)\n",
    "\n",
    "early_stopping_callback = keras.callbacks.EarlyStopping(\n",
    "    monitor='val_loss', patience=5, verbose=1, restore_best_weights=True)\n"
   ]
  },
  {
   "cell_type": "code",
   "execution_count": 55,
   "id": "c25b08bd",
   "metadata": {},
   "outputs": [
    {
     "name": "stdout",
     "output_type": "stream",
     "text": [
      "Epoch 1/30\n",
      "1184/1184 [==============================] - ETA: 0s - loss: 3.8667 - accuracy: 0.1249\n",
      "Epoch 1: val_loss did not improve from 4.25481\n",
      "1184/1184 [==============================] - 156s 132ms/step - loss: 3.8667 - accuracy: 0.1249 - val_loss: 4.3480 - val_accuracy: 0.0683\n",
      "Epoch 2/30\n",
      "1184/1184 [==============================] - ETA: 0s - loss: 3.6243 - accuracy: 0.1667\n",
      "Epoch 2: val_loss did not improve from 4.25481\n",
      "1184/1184 [==============================] - 159s 135ms/step - loss: 3.6243 - accuracy: 0.1667 - val_loss: 4.4838 - val_accuracy: 0.0672\n",
      "Epoch 3/30\n",
      "1184/1184 [==============================] - ETA: 0s - loss: 3.1841 - accuracy: 0.2513\n",
      "Epoch 3: val_loss did not improve from 4.25481\n",
      "1184/1184 [==============================] - 158s 133ms/step - loss: 3.1841 - accuracy: 0.2513 - val_loss: 4.8306 - val_accuracy: 0.0648\n",
      "Epoch 4/30\n",
      "1184/1184 [==============================] - ETA: 0s - loss: 2.5317 - accuracy: 0.3893\n",
      "Epoch 4: val_loss did not improve from 4.25481\n",
      "1184/1184 [==============================] - 157s 133ms/step - loss: 2.5317 - accuracy: 0.3893 - val_loss: 5.5474 - val_accuracy: 0.0590\n",
      "Epoch 5/30\n",
      "1184/1184 [==============================] - ETA: 0s - loss: 1.8535 - accuracy: 0.5491\n",
      "Epoch 5: val_loss did not improve from 4.25481\n",
      "1184/1184 [==============================] - 157s 132ms/step - loss: 1.8535 - accuracy: 0.5491 - val_loss: 6.6977 - val_accuracy: 0.0513\n",
      "Epoch 6/30\n",
      "1184/1184 [==============================] - ETA: 0s - loss: 1.3168 - accuracy: 0.6781\n",
      "Epoch 6: val_loss did not improve from 4.25481\n",
      "Restoring model weights from the end of the best epoch: 1.\n",
      "1184/1184 [==============================] - 157s 132ms/step - loss: 1.3168 - accuracy: 0.6781 - val_loss: 7.9153 - val_accuracy: 0.0507\n",
      "Epoch 6: early stopping\n"
     ]
    },
    {
     "data": {
      "text/plain": [
       "<keras.callbacks.History at 0x7fdececda610>"
      ]
     },
     "execution_count": 55,
     "metadata": {},
     "output_type": "execute_result"
    }
   ],
   "source": [
    "# Training the model\n",
    "model.fit(\n",
    "    train_generator,\n",
    "    epochs=num_epochs,\n",
    "    validation_data=val_generator,\n",
    "    callbacks=[checkpoint_callback, early_stopping_callback]\n",
    ")"
   ]
  },
  {
   "cell_type": "code",
   "execution_count": null,
   "id": "1e903d09",
   "metadata": {},
   "outputs": [],
   "source": [
    " Evaluation on the test set\n",
    "test_loss, test_accuracy = model.evaluate(test_generator)\n",
    "print(f\"Test Loss: {test_loss:.4f}\")\n",
    "print(f\"Test Accuracy: {test_accuracy:.2%}\")"
   ]
  },
  {
   "cell_type": "code",
   "execution_count": null,
   "id": "1e5bb14f",
   "metadata": {},
   "outputs": [],
   "source": [
    "# Calculate metrics\n",
    "test_generator.reset()\n",
    "predictions = model.predict(test_generator)\n",
    "y_pred = [tf.argmax(pred).numpy() for pred in predictions]\n",
    "y_true = test_generator.classes"
   ]
  },
  {
   "cell_type": "code",
   "execution_count": null,
   "id": "a4299e95",
   "metadata": {},
   "outputs": [],
   "source": [
    "print(\"Classification Report:\")\n",
    "print(classification_report(y_true, y_pred, target_names=test_generator.class_indices.keys()))\n",
    "print(\"Accuracy: {:.2f}%\".format(100 * accuracy_score(y_true, y_pred)))\n",
    "print(\"F1 Score: {:.2f}\".format(f1_score(y_true, y_pred, average='macro')))\n",
    "print(\"Confusion Matrix:\")\n",
    "print(confusion_matrix(y_true, y_pred)\n"
   ]
  }
 ],
 "metadata": {
  "kernelspec": {
   "display_name": "Python 3 (ipykernel)",
   "language": "python",
   "name": "python3"
  },
  "language_info": {
   "codemirror_mode": {
    "name": "ipython",
    "version": 3
   },
   "file_extension": ".py",
   "mimetype": "text/x-python",
   "name": "python",
   "nbconvert_exporter": "python",
   "pygments_lexer": "ipython3",
   "version": "3.8.10"
  }
 },
 "nbformat": 4,
 "nbformat_minor": 5
}
