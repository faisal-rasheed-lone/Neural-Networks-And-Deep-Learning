{
 "cells": [
  {
   "cell_type": "code",
   "execution_count": 87,
   "id": "67587961",
   "metadata": {},
   "outputs": [],
   "source": [
    "import tensorflow as tf\n",
    "from tensorflow.keras.layers import GlobalAveragePooling2D, Dense\n",
    "from tensorflow.keras.preprocessing.image import ImageDataGenerator\n",
    "from tensorflow.keras import layers, models\n",
    "from tensorflow.keras.optimizers import Adam\n",
    "from tensorflow.keras.callbacks import ModelCheckpoint, EarlyStopping\n",
    "from sklearn.metrics import classification_report, confusion_matrix, f1_score, accuracy_score\n",
    "from tensorflow.keras.models import Model\n",
    "from tensorflow.keras.applications import DenseNet201\n"
   ]
  },
  {
   "cell_type": "code",
   "execution_count": 88,
   "id": "8a8254a4",
   "metadata": {},
   "outputs": [],
   "source": [
    "train_dir = 'Project101/final_dataset/train'\n",
    "val_dir = 'Project101/final_dataset/validation'\n",
    "test_dir = 'Project101/final_dataset/test'"
   ]
  },
  {
   "cell_type": "code",
   "execution_count": 89,
   "id": "2fd07e72",
   "metadata": {},
   "outputs": [
    {
     "name": "stdout",
     "output_type": "stream",
     "text": [
      "Found 75750 images belonging to 101 classes.\n",
      "Found 10100 images belonging to 101 classes.\n",
      "Found 15150 images belonging to 101 classes.\n"
     ]
    }
   ],
   "source": [
    "\n",
    "\n",
    "# Load and preprocess the Food 101 dataset\n",
    "# Make sure to have the dataset in the correct structure (train/val subdirectories for each class)\n",
    "# You might need to resize images to (299, 299) as InceptionV3 requires this size\n",
    "\n",
    "# Use the built-in preprocessing function for InceptionV3\n",
    "def preprocess_input_inception(x):\n",
    "    x /= 255.0\n",
    "    x -= 0.5\n",
    "    x *= 2.0\n",
    "    return x\n",
    "\n",
    "train_datagen = ImageDataGenerator(\n",
    "    preprocessing_function=preprocess_input_inception,                            \n",
    "    rescale=1./255,\n",
    "    rotation_range=20,\n",
    "    width_shift_range=0.2,\n",
    "    height_shift_range=0.2,\n",
    "    shear_range=0.2,\n",
    "    zoom_range=0.2,\n",
    "    brightness_range=[0.5, 1.5],\n",
    "\n",
    "  )\n",
    "\n",
    "val_datagen = ImageDataGenerator(preprocessing_function=preprocess_input_inception)\n",
    "test_datagen = ImageDataGenerator(preprocessing_function=preprocess_input_inception)\n",
    "\n",
    "\n",
    "train_generator = train_datagen.flow_from_directory(\n",
    "    train_dir,\n",
    "    target_size=(224, 224),\n",
    "    batch_size=32,\n",
    "    class_mode='categorical'\n",
    ")\n",
    "\n",
    "val_generator = val_datagen.flow_from_directory(\n",
    "    val_dir,\n",
    "    target_size=(224, 224),\n",
    "    batch_size=32,\n",
    "    class_mode='categorical'\n",
    ")\n",
    "test_generator = test_datagen.flow_from_directory(\n",
    "    test_dir,\n",
    "    target_size=(224, 224),\n",
    "    batch_size=32,\n",
    "    class_mode='categorical'\n",
    ")\n",
    "\n"
   ]
  },
  {
   "cell_type": "code",
   "execution_count": null,
   "id": "84e5a6b4",
   "metadata": {},
   "outputs": [],
   "source": [
    "# Load the pre-trained DenseNet201 model without the top (fully connected) layers\n",
    "base_model = DenseNet201(weights='imagenet', include_top=False, input_shape=(224, 224, 3))\n",
    "\n",
    "print(\"Total number of layers in DenseNet201:\", len(base_model.layers))\n",
    "\n",
    "# Set the number of layers you want to be trainable\n",
    "# num_trainable_layers = 703\n",
    "\n",
    "# Fine-tune from this layer onwards\n",
    "# fine_tune_at = num_trainable_layers\n",
    "\n",
    "# Freeze all the layers before the `fine_tune_at` layer\n",
    "for layer in base_model.layers:\n",
    "    layer.trainable = False\n",
    "\n",
    "# Create a new model on top of the base model\n",
    "model = models.Sequential()\n",
    "\n",
    "model.add(base_model)\n",
    "model.add(layers.GlobalAveragePooling2D())\n",
    "model.add(layers.Dense(256, activation='relu'))\n",
    "model.add(layers.Dropout(0.5))\n",
    "model.add(layers.Dense(101, activation='softmax'))  # Assuming Food 101 has 101 classes\n",
    "\n",
    "# Compile the model\n",
    "model.compile(optimizer=Adam(learning_rate=0.0001), loss='categorical_crossentropy', metrics=['accuracy'])"
   ]
  },
  {
   "cell_type": "code",
   "execution_count": 91,
   "id": "471a0115",
   "metadata": {},
   "outputs": [
    {
     "name": "stdout",
     "output_type": "stream",
     "text": [
      "Model: \"sequential_26\"\n",
      "_________________________________________________________________\n",
      " Layer (type)                Output Shape              Param #   \n",
      "=================================================================\n",
      " densenet201 (Functional)    (None, 7, 7, 1920)        18321984  \n",
      "                                                                 \n",
      " global_average_pooling2d_26  (None, 1920)             0         \n",
      "  (GlobalAveragePooling2D)                                       \n",
      "                                                                 \n",
      " dense_52 (Dense)            (None, 256)               491776    \n",
      "                                                                 \n",
      " dropout_26 (Dropout)        (None, 256)               0         \n",
      "                                                                 \n",
      " dense_53 (Dense)            (None, 101)               25957     \n",
      "                                                                 \n",
      "=================================================================\n",
      "Total params: 18,839,717\n",
      "Trainable params: 558,437\n",
      "Non-trainable params: 18,281,280\n",
      "_________________________________________________________________\n"
     ]
    }
   ],
   "source": [
    "model.summary()"
   ]
  },
  {
   "cell_type": "code",
   "execution_count": 92,
   "id": "d956730e",
   "metadata": {},
   "outputs": [],
   "source": [
    "from tensorflow.keras.callbacks import ModelCheckpoint, EarlyStopping, ReduceLROnPlateau\n",
    "checkpoint = ModelCheckpoint(\"Dense_WFT.h5\", save_best_only=True, monitor='val_loss', mode='min', verbose=1)\n",
    "early_stopping = EarlyStopping(monitor='val_accuracy', patience=10, mode='max', verbose=1)\n",
    "# reduce_lr = ReduceLROnPlateau(monitor='val_loss', factor=0.1, patience=4, mode='min', verbose=1)\n",
    "\n",
    "callbacks_list = [checkpoint, early_stopping]\n"
   ]
  },
  {
   "cell_type": "code",
   "execution_count": 93,
   "id": "572b4312",
   "metadata": {},
   "outputs": [],
   "source": [
    "import time\n",
    "start_time = time.time()"
   ]
  },
  {
   "cell_type": "code",
   "execution_count": 94,
   "id": "d473c1d4",
   "metadata": {},
   "outputs": [
    {
     "name": "stdout",
     "output_type": "stream",
     "text": [
      "Epoch 1/300\n",
      "2368/2368 [==============================] - ETA: 0s - loss: 4.6180 - accuracy: 0.0101\n",
      "Epoch 1: val_loss improved from inf to 5.59907, saving model to Dense_WFT.h5\n",
      "2368/2368 [==============================] - 752s 314ms/step - loss: 4.6180 - accuracy: 0.0101 - val_loss: 5.5991 - val_accuracy: 0.0101\n",
      "Epoch 2/300\n",
      "2368/2368 [==============================] - ETA: 0s - loss: 4.6091 - accuracy: 0.0116\n",
      "Epoch 2: val_loss improved from 5.59907 to 5.22850, saving model to Dense_WFT.h5\n",
      "2368/2368 [==============================] - 749s 316ms/step - loss: 4.6091 - accuracy: 0.0116 - val_loss: 5.2285 - val_accuracy: 0.0104\n",
      "Epoch 3/300\n",
      "2368/2368 [==============================] - ETA: 0s - loss: 4.6030 - accuracy: 0.0145\n",
      "Epoch 3: val_loss improved from 5.22850 to 5.09227, saving model to Dense_WFT.h5\n",
      "2368/2368 [==============================] - 758s 320ms/step - loss: 4.6030 - accuracy: 0.0145 - val_loss: 5.0923 - val_accuracy: 0.0107\n",
      "Epoch 4/300\n",
      "2368/2368 [==============================] - ETA: 0s - loss: 4.5977 - accuracy: 0.0156\n",
      "Epoch 4: val_loss did not improve from 5.09227\n",
      "2368/2368 [==============================] - 762s 322ms/step - loss: 4.5977 - accuracy: 0.0156 - val_loss: 5.2055 - val_accuracy: 0.0098\n",
      "Epoch 5/300\n",
      "2368/2368 [==============================] - ETA: 0s - loss: 4.5934 - accuracy: 0.0164\n",
      "Epoch 5: val_loss did not improve from 5.09227\n",
      "2368/2368 [==============================] - 759s 320ms/step - loss: 4.5934 - accuracy: 0.0164 - val_loss: 5.3395 - val_accuracy: 0.0089\n",
      "Epoch 6/300\n",
      "2368/2368 [==============================] - ETA: 0s - loss: 4.5875 - accuracy: 0.0161\n",
      "Epoch 6: val_loss did not improve from 5.09227\n",
      "2368/2368 [==============================] - 757s 320ms/step - loss: 4.5875 - accuracy: 0.0161 - val_loss: 5.9211 - val_accuracy: 0.0098\n",
      "Epoch 7/300\n",
      "2368/2368 [==============================] - ETA: 0s - loss: 4.5807 - accuracy: 0.0165\n",
      "Epoch 7: val_loss did not improve from 5.09227\n",
      "2368/2368 [==============================] - 766s 323ms/step - loss: 4.5807 - accuracy: 0.0165 - val_loss: 7.0766 - val_accuracy: 0.0102\n",
      "Epoch 8/300\n",
      "2368/2368 [==============================] - ETA: 0s - loss: 4.5760 - accuracy: 0.0182\n",
      "Epoch 8: val_loss did not improve from 5.09227\n",
      "2368/2368 [==============================] - 757s 320ms/step - loss: 4.5760 - accuracy: 0.0182 - val_loss: 7.8601 - val_accuracy: 0.0104\n",
      "Epoch 9/300\n",
      "2368/2368 [==============================] - ETA: 0s - loss: 4.5695 - accuracy: 0.0176\n",
      "Epoch 9: val_loss did not improve from 5.09227\n",
      "2368/2368 [==============================] - 759s 320ms/step - loss: 4.5695 - accuracy: 0.0176 - val_loss: 9.3962 - val_accuracy: 0.0102\n",
      "Epoch 10/300\n",
      "2368/2368 [==============================] - ETA: 0s - loss: 4.5651 - accuracy: 0.0188\n",
      "Epoch 10: val_loss did not improve from 5.09227\n",
      "2368/2368 [==============================] - 760s 321ms/step - loss: 4.5651 - accuracy: 0.0188 - val_loss: 9.4960 - val_accuracy: 0.0107\n",
      "Epoch 11/300\n",
      "2368/2368 [==============================] - ETA: 0s - loss: 4.5613 - accuracy: 0.0199\n",
      "Epoch 11: val_loss did not improve from 5.09227\n",
      "2368/2368 [==============================] - 758s 320ms/step - loss: 4.5613 - accuracy: 0.0199 - val_loss: 10.4831 - val_accuracy: 0.0110\n",
      "Epoch 12/300\n",
      "2368/2368 [==============================] - ETA: 0s - loss: 4.5568 - accuracy: 0.0189\n",
      "Epoch 12: val_loss did not improve from 5.09227\n",
      "2368/2368 [==============================] - 763s 322ms/step - loss: 4.5568 - accuracy: 0.0189 - val_loss: 10.8391 - val_accuracy: 0.0109\n",
      "Epoch 13/300\n",
      "2368/2368 [==============================] - ETA: 0s - loss: 4.5551 - accuracy: 0.0195\n",
      "Epoch 13: val_loss did not improve from 5.09227\n",
      "2368/2368 [==============================] - 754s 318ms/step - loss: 4.5551 - accuracy: 0.0195 - val_loss: 10.5699 - val_accuracy: 0.0116\n",
      "Epoch 14/300\n",
      "2368/2368 [==============================] - ETA: 0s - loss: 4.5506 - accuracy: 0.0201\n",
      "Epoch 14: val_loss did not improve from 5.09227\n",
      "2368/2368 [==============================] - 759s 320ms/step - loss: 4.5506 - accuracy: 0.0201 - val_loss: 11.7263 - val_accuracy: 0.0116\n",
      "Epoch 15/300\n",
      "2368/2368 [==============================] - ETA: 0s - loss: 4.5471 - accuracy: 0.0201\n",
      "Epoch 15: val_loss did not improve from 5.09227\n",
      "2368/2368 [==============================] - 755s 319ms/step - loss: 4.5471 - accuracy: 0.0201 - val_loss: 12.1200 - val_accuracy: 0.0110\n",
      "Epoch 16/300\n",
      "2368/2368 [==============================] - ETA: 0s - loss: 4.5432 - accuracy: 0.0201\n",
      "Epoch 16: val_loss did not improve from 5.09227\n",
      "2368/2368 [==============================] - 754s 318ms/step - loss: 4.5432 - accuracy: 0.0201 - val_loss: 11.9889 - val_accuracy: 0.0111\n",
      "Epoch 17/300\n",
      "2368/2368 [==============================] - ETA: 0s - loss: 4.5399 - accuracy: 0.0216\n",
      "Epoch 17: val_loss did not improve from 5.09227\n",
      "2368/2368 [==============================] - 758s 320ms/step - loss: 4.5399 - accuracy: 0.0216 - val_loss: 12.4074 - val_accuracy: 0.0117\n",
      "Epoch 18/300\n",
      "2368/2368 [==============================] - ETA: 0s - loss: 4.5380 - accuracy: 0.0214\n",
      "Epoch 18: val_loss did not improve from 5.09227\n",
      "2368/2368 [==============================] - 754s 319ms/step - loss: 4.5380 - accuracy: 0.0214 - val_loss: 12.7380 - val_accuracy: 0.0110\n",
      "Epoch 19/300\n",
      "2368/2368 [==============================] - ETA: 0s - loss: 4.5371 - accuracy: 0.0220\n",
      "Epoch 19: val_loss did not improve from 5.09227\n",
      "2368/2368 [==============================] - 746s 315ms/step - loss: 4.5371 - accuracy: 0.0220 - val_loss: 12.8580 - val_accuracy: 0.0109\n",
      "Epoch 20/300\n",
      "2368/2368 [==============================] - ETA: 0s - loss: 4.5348 - accuracy: 0.0220\n",
      "Epoch 20: val_loss did not improve from 5.09227\n",
      "2368/2368 [==============================] - 749s 316ms/step - loss: 4.5348 - accuracy: 0.0220 - val_loss: 12.4883 - val_accuracy: 0.0117\n",
      "Epoch 21/300\n",
      "2368/2368 [==============================] - ETA: 0s - loss: 4.5327 - accuracy: 0.0225\n",
      "Epoch 21: val_loss did not improve from 5.09227\n",
      "2368/2368 [==============================] - 742s 314ms/step - loss: 4.5327 - accuracy: 0.0225 - val_loss: 13.5350 - val_accuracy: 0.0100\n",
      "Epoch 22/300\n",
      "2368/2368 [==============================] - ETA: 0s - loss: 4.5312 - accuracy: 0.0229\n",
      "Epoch 22: val_loss did not improve from 5.09227\n",
      "2368/2368 [==============================] - 744s 314ms/step - loss: 4.5312 - accuracy: 0.0229 - val_loss: 13.9437 - val_accuracy: 0.0109\n",
      "Epoch 23/300\n",
      "2368/2368 [==============================] - ETA: 0s - loss: 4.5288 - accuracy: 0.0224\n",
      "Epoch 23: val_loss did not improve from 5.09227\n",
      "2368/2368 [==============================] - 745s 315ms/step - loss: 4.5288 - accuracy: 0.0224 - val_loss: 14.5384 - val_accuracy: 0.0104\n",
      "Epoch 24/300\n",
      "2368/2368 [==============================] - ETA: 0s - loss: 4.5266 - accuracy: 0.0236\n",
      "Epoch 24: val_loss did not improve from 5.09227\n",
      "2368/2368 [==============================] - 743s 314ms/step - loss: 4.5266 - accuracy: 0.0236 - val_loss: 15.3407 - val_accuracy: 0.0099\n",
      "Epoch 25/300\n",
      "2368/2368 [==============================] - ETA: 0s - loss: 4.5253 - accuracy: 0.0238\n",
      "Epoch 25: val_loss did not improve from 5.09227\n",
      "2368/2368 [==============================] - 746s 315ms/step - loss: 4.5253 - accuracy: 0.0238 - val_loss: 14.5295 - val_accuracy: 0.0100\n",
      "Epoch 26/300\n",
      "2368/2368 [==============================] - ETA: 0s - loss: 4.5239 - accuracy: 0.0228\n",
      "Epoch 26: val_loss did not improve from 5.09227\n",
      "2368/2368 [==============================] - 748s 316ms/step - loss: 4.5239 - accuracy: 0.0228 - val_loss: 15.3166 - val_accuracy: 0.0100\n",
      "Epoch 27/300\n",
      "2368/2368 [==============================] - ETA: 0s - loss: 4.5226 - accuracy: 0.0238\n",
      "Epoch 27: val_loss did not improve from 5.09227\n",
      "2368/2368 [==============================] - 750s 317ms/step - loss: 4.5226 - accuracy: 0.0238 - val_loss: 16.8018 - val_accuracy: 0.0101\n",
      "Epoch 27: early stopping\n"
     ]
    }
   ],
   "source": [
    "# Train the model\n",
    "history = model.fit(\n",
    "    train_generator,\n",
    "    epochs=300,  # You can adjust the number of epochs\n",
    "    validation_data=val_generator,\n",
    "    callbacks = callbacks_list\n",
    ")"
   ]
  },
  {
   "cell_type": "code",
   "execution_count": 95,
   "id": "5ef221f1",
   "metadata": {},
   "outputs": [
    {
     "name": "stdout",
     "output_type": "stream",
     "text": [
      "Total training time: 20347.61 seconds\n"
     ]
    }
   ],
   "source": [
    "end_time = time.time()\n",
    "training_time = end_time - start_time\n",
    "print(f\"Total training time: {training_time:.2f} seconds\")"
   ]
  },
  {
   "cell_type": "code",
   "execution_count": 96,
   "id": "fa94a6a1",
   "metadata": {},
   "outputs": [
    {
     "data": {
      "image/png": "[encoded data removed]",
      "text/plain": [
       "<Figure size 864x432 with 2 Axes>"
      ]
     },
     "metadata": {
      "needs_background": "light"
     },
     "output_type": "display_data"
    }
   ],
   "source": [
    "import matplotlib.pyplot as plt\n",
    "\n",
    "\n",
    "# Plot training & validation accuracy values\n",
    "plt.figure(figsize=(12, 6))\n",
    "plt.subplot(1, 2, 1)\n",
    "plt.plot(history.history['accuracy'], label='Train Accuracy', linewidth=2)\n",
    "plt.plot(history.history['val_accuracy'], label='Validation Accuracy', linewidth=2)\n",
    "plt.title('Model Accuracy')\n",
    "plt.ylabel('Accuracy')\n",
    "plt.xlabel('Epoch')\n",
    "plt.legend()\n",
    "plt.grid()\n",
    "\n",
    "# Plot training & validation loss values\n",
    "plt.subplot(1, 2, 2)\n",
    "plt.plot(history.history['loss'], label='Train Loss', linewidth=2)\n",
    "plt.plot(history.history['val_loss'], label='Validation Loss', linewidth=2)\n",
    "plt.title('Model Loss')\n",
    "plt.ylabel('Loss')\n",
    "plt.xlabel('Epoch')\n",
    "plt.legend()\n",
    "plt.grid()\n",
    "\n",
    "plt.tight_layout()\n",
    "plt.show()"
   ]
  },
  {
   "cell_type": "code",
   "execution_count": null,
   "id": "fcfd2582",
   "metadata": {},
   "outputs": [],
   "source": []
  },
  {
   "cell_type": "code",
   "execution_count": null,
   "id": "fe8e5b5d",
   "metadata": {},
   "outputs": [],
   "source": []
  },
  {
   "cell_type": "code",
   "execution_count": null,
   "id": "c5b921b0",
   "metadata": {},
   "outputs": [],
   "source": []
  },
  {
   "cell_type": "code",
   "execution_count": null,
   "id": "e0b893a3",
   "metadata": {},
   "outputs": [],
   "source": []
  },
  {
   "cell_type": "code",
   "execution_count": null,
   "id": "b5186ed9",
   "metadata": {},
   "outputs": [],
   "source": []
  },
  {
   "cell_type": "code",
   "execution_count": null,
   "id": "07c64bf8",
   "metadata": {},
   "outputs": [],
   "source": []
  }
 ],
 "metadata": {
  "kernelspec": {
   "display_name": "Python 3 (ipykernel)",
   "language": "python",
   "name": "python3"
  },
  "language_info": {
   "codemirror_mode": {
    "name": "ipython",
    "version": 3
   },
   "file_extension": ".py",
   "mimetype": "text/x-python",
   "name": "python",
   "nbconvert_exporter": "python",
   "pygments_lexer": "ipython3",
   "version": "3.8.10"
  }
 },
 "nbformat": 4,
 "nbformat_minor": 5
}
